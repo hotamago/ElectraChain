{
 "cells": [
  {
   "cell_type": "markdown",
   "metadata": {},
   "source": [
    "## Lab test solana"
   ]
  },
  {
   "cell_type": "code",
   "execution_count": 1,
   "metadata": {},
   "outputs": [],
   "source": [
    "# import data\n",
    "from hotaSolana.hotaSolanaData import *\n",
    "from hotaSolana.hotaSolanaMeathod import *\n",
    "from hotaSolana.bs58 import bs58"
   ]
  },
  {
   "cell_type": "code",
   "execution_count": 2,
   "metadata": {},
   "outputs": [
    {
     "name": "stdout",
     "output_type": "stream",
     "text": [
      "(CjYVrxUgkk62TxPf4Ma1tuH3G6A1C58jC9pszk6xnB8d, 254)\n"
     ]
    }
   ],
   "source": [
    "keypair = makeKeyPair(\"5BtcDR94GxonhriF1YZMgegjQBhNKGUnA7kgdzoY1KfdK4s6TW4HZ5zKTNcfMfd4y1E7CxtLzqVerRUMB7V4RnDZ\")\n",
    "print(findProgramAddress(keypair.public_key,\"voter\",PublicKey(\"E5cqMdTssF6ANT3Yr36KRMeHJ9h2LdWFFyhPe5HR7ddZ\")))"
   ]
  },
  {
   "cell_type": "code",
   "execution_count": null,
   "metadata": {},
   "outputs": [],
   "source": [
    "print(keypair.public_key, keypair_seed.public_key)"
   ]
  },
  {
   "cell_type": "code",
   "execution_count": null,
   "metadata": {},
   "outputs": [],
   "source": [
    "client = HotaSolanaClient(\n",
    "    \"RSfLGJjiczv73AUSP6EeiLzE9XZR8nUjdL6uXvNmcwg\", False, \"devnet\", \"hotaNFT4\")"
   ]
  },
  {
   "cell_type": "code",
   "execution_count": null,
   "metadata": {},
   "outputs": [],
   "source": [
    "client.make_key_pair(\n",
    "    \"UjsHZxUY11fRV59QHrSmPPqbYDNRBf9h6zEBCCNKjVaQhozgVduCEMLFiyPrWW1evVWgiHme4TYLBKgrao3aJuG\")"
   ]
  },
  {
   "cell_type": "code",
   "execution_count": null,
   "metadata": {},
   "outputs": [],
   "source": [
    "client.get_account_info()"
   ]
  },
  {
   "cell_type": "code",
   "execution_count": null,
   "metadata": {},
   "outputs": [],
   "source": [
    "client.get_balance()"
   ]
  },
  {
   "cell_type": "code",
   "execution_count": null,
   "metadata": {},
   "outputs": [],
   "source": [
    "# Drop some SOL\n",
    "# client.drop_sol(1)"
   ]
  },
  {
   "cell_type": "code",
   "execution_count": null,
   "metadata": {},
   "outputs": [],
   "source": [
    "# Add random face\n",
    "newFaceNFT = FaceStruct()\n",
    "newFaceNFT.randomFace()\n",
    "instructionData = InstructionDataStruct(\n",
    "    typeAct=HotaUint8(0),\n",
    "    face=newFaceNFT,\n",
    ")"
   ]
  },
  {
   "cell_type": "code",
   "execution_count": null,
   "metadata": {},
   "outputs": [],
   "source": [
    "len(client.keypair_seed.key_pair.encode())"
   ]
  },
  {
   "cell_type": "code",
   "execution_count": null,
   "metadata": {},
   "outputs": [],
   "source": [
    "keys = [AccountMeta(public_key=pubkey, is_signer=False, is_writable=True)\n",
    "        for pubkey in [client.keypair_seed.public_key]]\n",
    "\n",
    "instruction = Instruction(\n",
    "    keys=keys,\n",
    "    program_id=client.program_id,\n",
    "    data=bytes(instructionData.serialize()),\n",
    ")\n",
    "\n",
    "transaction = Transaction(instructions=[\n",
    "    instruction\n",
    "], signers=[client.keypair])"
   ]
  },
  {
   "cell_type": "code",
   "execution_count": null,
   "metadata": {},
   "outputs": [],
   "source": [
    "recent_blockhash = transaction.recent_blockhash\n",
    "\n",
    "if recent_blockhash is None:\n",
    "    blockhash_resp = client.connection.get_recent_blockhash()\n",
    "    recent_blockhash = blockhash_resp.blockhash\n",
    "\n",
    "transaction.recent_blockhash = recent_blockhash\n",
    "transaction.sign()"
   ]
  },
  {
   "cell_type": "code",
   "execution_count": null,
   "metadata": {},
   "outputs": [],
   "source": [
    "from hotaSolana.bs58 import bs58"
   ]
  },
  {
   "cell_type": "code",
   "execution_count": null,
   "metadata": {},
   "outputs": [],
   "source": [
    "client.connection.build_and_send_request(\n",
    "    \"simulateTransaction\", [transaction.serialize(), {\n",
    "        \"encoding\": \"base64\"}]\n",
    ")"
   ]
  },
  {
   "cell_type": "code",
   "execution_count": null,
   "metadata": {},
   "outputs": [],
   "source": [
    "len(bytes(instructionData.serialize()))"
   ]
  },
  {
   "cell_type": "code",
   "execution_count": null,
   "metadata": {},
   "outputs": [],
   "source": [
    "# Add random face\n",
    "newFaceNFT = FaceStruct()\n",
    "newFaceNFT.randomFace()\n",
    "instructionData = InstructionDataStruct(\n",
    "    typeAct=HotaUint8(0),\n",
    "    face=newFaceNFT,\n",
    ")\n",
    "client.send_transaction(instructionData, [client.keypair_seed.public_key], [client.keypair])"
   ]
  },
  {
   "cell_type": "code",
   "execution_count": null,
   "metadata": {},
   "outputs": [],
   "source": [
    "len(bytes(instructionData.serialize()))"
   ]
  },
  {
   "cell_type": "code",
   "execution_count": null,
   "metadata": {},
   "outputs": [],
   "source": [
    "from nacl.signing import SigningKey"
   ]
  },
  {
   "cell_type": "code",
   "execution_count": null,
   "metadata": {},
   "outputs": [],
   "source": [
    "bytes(client.seed.encode())"
   ]
  },
  {
   "cell_type": "code",
   "execution_count": null,
   "metadata": {},
   "outputs": [],
   "source": [
    "bs58.encode(random_32bytes_with_seed(\n",
    "    client.keypair.public_key,\n",
    "    client.seed,\n",
    "    client.program_id))"
   ]
  },
  {
   "cell_type": "code",
   "execution_count": null,
   "metadata": {},
   "outputs": [],
   "source": [
    "esPairKey = SigningKey(bytes(bs58.decode(random_32bytes_with_seed(\n",
    "    client.keypair.public_key,\n",
    "    client.seed,\n",
    "    client.program_id)\n",
    ")))"
   ]
  },
  {
   "cell_type": "code",
   "execution_count": null,
   "metadata": {},
   "outputs": [],
   "source": [
    "def textEncodeASCII(text):\n",
    "    arr = []\n",
    "    for i in range(len(text)):\n",
    "        arr.append(ord(text[i]))\n",
    "    return arr"
   ]
  },
  {
   "cell_type": "code",
   "execution_count": null,
   "metadata": {},
   "outputs": [],
   "source": [
    "bs58.encode(bytes(textEncodeASCII(\"HotaNFT4\")))"
   ]
  },
  {
   "cell_type": "code",
   "execution_count": null,
   "metadata": {},
   "outputs": [],
   "source": []
  }
 ],
 "metadata": {
  "kernelspec": {
   "display_name": "webapi",
   "language": "python",
   "name": "python3"
  },
  "language_info": {
   "codemirror_mode": {
    "name": "ipython",
    "version": 3
   },
   "file_extension": ".py",
   "mimetype": "text/x-python",
   "name": "python",
   "nbconvert_exporter": "python",
   "pygments_lexer": "ipython3",
   "version": "3.10.14"
  }
 },
 "nbformat": 4,
 "nbformat_minor": 2
}
